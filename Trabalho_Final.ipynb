{
  "nbformat": 4,
  "nbformat_minor": 0,
  "metadata": {
    "colab": {
      "name": "Trabalho Final.ipynb",
      "provenance": [],
      "collapsed_sections": []
    },
    "kernelspec": {
      "name": "python3",
      "display_name": "Python 3"
    },
    "language_info": {
      "name": "python"
    }
  },
  "cells": [
    {
      "cell_type": "code",
      "metadata": {
        "id": "hvKi3YYzTPpy"
      },
      "source": [
        "!unzip /content/Img.zip"
      ],
      "execution_count": null,
      "outputs": []
    },
    {
      "cell_type": "code",
      "metadata": {
        "id": "k5cLi6J5TidA"
      },
      "source": [
        "\n",
        "#Inspirado: https://colab.research.google.com/github/practicaldl/Practical-Deep-Learning-Book/blob/master/code/chapter-4/1-feature-extraction.ipynb#scrollTo=hJPLApcFQLDV\n",
        "import numpy as np\n",
        "from numpy.linalg import norm\n",
        "import pickle\n",
        "from tqdm import tqdm, tqdm_notebook\n",
        "import os\n",
        "import random\n",
        "import time\n",
        "import math\n",
        "import tensorflow\n",
        "from tensorflow.keras.preprocessing import image\n",
        "from tensorflow.keras.preprocessing.image import ImageDataGenerator\n",
        "from tensorflow.keras.applications.resnet50 import ResNet50, preprocess_input\n",
        "from tensorflow.keras.applications.vgg16 import VGG16\n",
        "from tensorflow.keras.applications.vgg19 import VGG19\n",
        "from tensorflow.keras.applications.mobilenet import MobileNet\n",
        "from tensorflow.keras.applications.inception_v3 import InceptionV3\n",
        "from tensorflow.keras.applications.xception import Xception\n",
        "\n",
        "from tensorflow.keras.models import Model\n",
        "from tensorflow.keras.layers import Input, Flatten, Dense, Dropout, GlobalAveragePooling2D\n"
      ],
      "execution_count": null,
      "outputs": []
    },
    {
      "cell_type": "code",
      "metadata": {
        "id": "eUW0i_hiTmSx"
      },
      "source": [
        "def model_picker(name):\n",
        "    if (name == 'vgg16'):\n",
        "        model = VGG16(weights='imagenet',\n",
        "                      include_top=False,\n",
        "                      input_shape=(224, 224, 3),\n",
        "                      pooling='max')\n",
        "    elif (name == 'vgg19'):\n",
        "        model = VGG19(weights='imagenet',\n",
        "                      include_top=False,\n",
        "                      input_shape=(224, 224, 3),\n",
        "                      pooling='max')\n",
        "    elif (name == 'mobilenet'):\n",
        "        model = MobileNet(weights='imagenet',\n",
        "                          include_top=False,\n",
        "                          input_shape=(224, 224, 3),\n",
        "                          pooling='max',\n",
        "                          depth_multiplier=1,\n",
        "                          alpha=1)\n",
        "    elif (name == 'inception'):\n",
        "        model = InceptionV3(weights='imagenet',\n",
        "                            include_top=False,\n",
        "                            input_shape=(224, 224, 3),\n",
        "                            pooling='max')\n",
        "    elif (name == 'resnet'):\n",
        "        model = ResNet50(weights='imagenet',\n",
        "                         include_top=False,\n",
        "                         input_shape=(224, 224, 3),\n",
        "                        pooling='max')\n",
        "    elif (name == 'xception'):\n",
        "        model = Xception(weights='imagenet',\n",
        "                         include_top=False,\n",
        "                         input_shape=(224, 224, 3),\n",
        "                         pooling='max')\n",
        "    else:\n",
        "        print(\"Specified model not available\")\n",
        "    return model"
      ],
      "execution_count": null,
      "outputs": []
    },
    {
      "cell_type": "code",
      "metadata": {
        "id": "yS-yS5ctUILA"
      },
      "source": [
        "def extract_features(img_path, model, classe):\n",
        "    input_shape = (224, 224, 3)\n",
        "    img = image.load_img(img_path,\n",
        "                         target_size=(input_shape[0], input_shape[1]))\n",
        "    img_array = image.img_to_array(img)\n",
        "    expanded_img_array = np.expand_dims(img_array, axis=0)\n",
        "    preprocessed_img = preprocess_input(expanded_img_array)\n",
        "    features = model.predict(preprocessed_img)\n",
        "    flattened_features = features.flatten()\n",
        "    normalized_features = flattened_features / norm(flattened_features)\n",
        "    #print(normalized_features)\n",
        "    normalized_features = np.append(normalized_features, classe)\n",
        "    #print(normalized_features)\n",
        "\n",
        "    return normalized_features"
      ],
      "execution_count": null,
      "outputs": []
    },
    {
      "cell_type": "code",
      "metadata": {
        "id": "bzvwSofcU0vi"
      },
      "source": [
        "extensions = ['.jpg', '.JPG', '.jpeg', '.JPEG', '.png', '.PNG']\n",
        "\n",
        "def get_file_list(root_dir):\n",
        "    file_list = []\n",
        "    for root, directories, filenames in os.walk(root_dir):\n",
        "        for filename in filenames:\n",
        "            if any(ext in filename for ext in extensions):\n",
        "                file_list.append(os.path.join(root, filename))\n",
        "    return file_list"
      ],
      "execution_count": null,
      "outputs": []
    },
    {
      "cell_type": "markdown",
      "metadata": {
        "id": "-gndv4MAdbPe"
      },
      "source": [
        "# Gerando para todos os Deep Features"
      ]
    },
    {
      "cell_type": "code",
      "metadata": {
        "colab": {
          "base_uri": "https://localhost:8080/"
        },
        "id": "RHdTfvOwdgv9",
        "outputId": "6dd6a383-9c36-40e9-9a1b-b223fb3c7466"
      },
      "source": [
        "\n",
        "for arquitetura in ['inception', 'vgg16', 'vgg19', 'resnet', 'mobilenet', 'xception']:\n",
        "  print(\"Arquitetura \", arquitetura )\n",
        "  model_architecture = arquitetura\n",
        "  model = model_picker(model_architecture)\n",
        "\n",
        "  normal = sorted(get_file_list('/content/deep_feature_extractor/Imagens/01_Normal'))\n",
        "  covid_19 = sorted(get_file_list('/content/deep_feature_extractor/Imagens/02_COVID-19/'))\n",
        "\n",
        "  print(\"Extraindo Caracteristicas!\")\n",
        "  feature_list = []\n",
        "  for i in (range(len(normal))):\n",
        "      feature_list.append(extract_features(normal[i], model, 0))\n",
        "  \n",
        "  features_normal = feature_list\n",
        "\n",
        "  feature_list = []\n",
        "  for i in (range(len(covid_19))):\n",
        "      feature_list.append(extract_features(covid_19[i], model, 1))\n",
        "  features_covid = feature_list\n",
        "\n",
        "  dataset = np.concatenate((features_covid, features_normal))\n",
        "  np.random.shuffle(dataset)\n",
        "\n",
        "  print(\"Total de caracteristicas:\", len( dataset[0]-1 ))\n",
        "  print(\"Salvando em Treino_\"+str(model_architecture)+\".pickle\")\n",
        "  pickle.dump(\n",
        "      dataset,\n",
        "      open('dataset_' + model_architecture + '.pickle', 'wb'))\n",
        "  print(\"=======\")"
      ],
      "execution_count": null,
      "outputs": [
        {
          "output_type": "stream",
          "text": [
            "Arquitetura  inception\n",
            "Extraindo Caracteristicas!\n",
            "Total de caracteristicas: 2049\n",
            "Salvando em Treino_inception.pickle\n",
            "=======\n",
            "Arquitetura  vgg16\n",
            "Extraindo Caracteristicas!\n",
            "Total de caracteristicas: 513\n",
            "Salvando em Treino_vgg16.pickle\n",
            "=======\n",
            "Arquitetura  vgg19\n",
            "Extraindo Caracteristicas!\n",
            "Total de caracteristicas: 513\n",
            "Salvando em Treino_vgg19.pickle\n",
            "=======\n",
            "Arquitetura  resnet\n",
            "Extraindo Caracteristicas!\n",
            "Total de caracteristicas: 2049\n",
            "Salvando em Treino_resnet.pickle\n",
            "=======\n",
            "Arquitetura  mobilenet\n",
            "Extraindo Caracteristicas!\n",
            "Total de caracteristicas: 1025\n",
            "Salvando em Treino_mobilenet.pickle\n",
            "=======\n",
            "Arquitetura  xception\n",
            "Downloading data from https://storage.googleapis.com/tensorflow/keras-applications/xception/xception_weights_tf_dim_ordering_tf_kernels_notop.h5\n",
            "83689472/83683744 [==============================] - 1s 0us/step\n",
            "Extraindo Caracteristicas!\n",
            "Total de caracteristicas: 2049\n",
            "Salvando em Treino_xception.pickle\n",
            "=======\n"
          ],
          "name": "stdout"
        }
      ]
    },
    {
      "cell_type": "code",
      "metadata": {
        "colab": {
          "base_uri": "https://localhost:8080/"
        },
        "id": "jQiwqcGYidC_",
        "outputId": "6d493da8-27ab-41e5-ac56-76beaaf6cd45"
      },
      "source": [
        "!zip -r my_features.zip ./*"
      ],
      "execution_count": null,
      "outputs": [
        {
          "output_type": "stream",
          "text": [
            "  adding: dataset_inception.pickle (deflated 51%)\n",
            "  adding: dataset_mobilenet.pickle (deflated 69%)\n",
            "  adding: dataset_resnet.pickle (deflated 54%)\n",
            "  adding: dataset_vgg16.pickle (deflated 56%)\n",
            "  adding: dataset_vgg19.pickle (deflated 55%)\n",
            "  adding: dataset_xception.pickle (deflated 77%)\n"
          ],
          "name": "stdout"
        }
      ]
    },
    {
      "cell_type": "code",
      "metadata": {
        "id": "VcbDzqiWhLM0"
      },
      "source": [
        "#Abrir os arquivos Pickle\n",
        "\n",
        "# open a file, where you stored the pickled data\n",
        "file = open('/content/deep_feature_extractor/features/inception.pickle', 'rb')\n",
        "\n",
        "# dump information to that file\n",
        "data = pickle.load(file)"
      ],
      "execution_count": null,
      "outputs": []
    },
    {
      "cell_type": "code",
      "metadata": {
        "id": "ERq-WlK11wc_"
      },
      "source": [
        ""
      ],
      "execution_count": null,
      "outputs": []
    }
  ]
}